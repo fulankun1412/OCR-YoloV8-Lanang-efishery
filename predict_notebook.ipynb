{
 "cells": [
  {
   "cell_type": "code",
   "execution_count": 38,
   "metadata": {},
   "outputs": [],
   "source": [
    "from ultralytics import YOLO\n",
    "import cv2\n",
    "from collections import OrderedDict\n",
    "import numpy as np\n",
    "import yaml\n",
    "from google.cloud import vision\n",
    "from google.cloud.vision_v1 import types\n",
    "import os\n",
    "from io import BytesIO\n",
    "import boto3\n",
    "import pandas as pd\n",
    "from PIL import Image\n",
    "\n",
    "os.environ['CLEARML_CONFIG_FILE'] = \"clearml.conf\"\n",
    "\n",
    "from clearml import Task, InputModel\n",
    "\n",
    "with open('config.yaml','r') as f:\n",
    "    configModel = yaml.safe_load(f)"
   ]
  },
  {
   "cell_type": "code",
   "execution_count": 39,
   "metadata": {},
   "outputs": [],
   "source": [
    "task = Task.init(project_name=configModel[\"clearml-project-config\"][\"project-name\"], task_name=configModel[\"clearml-project-config\"][\"task-name\"],\n",
    "                 task_type=configModel[\"clearml-project-config\"][\"task-type\"], reuse_last_task_id=configModel[\"clearml-project-config\"][\"id\"])\n",
    "\n",
    "inputModel = InputModel(project=configModel[\"clearml-project-config\"][\"project-name\"], name=configModel[\"model-config\"][\"YOLO-model\"],\n",
    "                        only_published=configModel[\"model-config\"][\"published\"], tags=configModel[\"model-config\"][\"tags\"])\n",
    "\n",
    "task.connect(inputModel)\n",
    "pathToModel = inputModel.get_local_copy()\n",
    "\n",
    "model = YOLO(pathToModel)\n",
    "imgDelimiter = cv2.imread(configModel[\"model-config\"][\"delimiter\"])\n",
    "gcv_api_key_path = configModel[\"model-config\"][\"vision-key\"]\n",
    "imgSize = configModel[\"model-config\"][\"image-size\"]"
   ]
  },
  {
   "cell_type": "code",
   "execution_count": 40,
   "metadata": {},
   "outputs": [
    {
     "name": "stdout",
     "output_type": "stream",
     "text": [
      "(2160, 3840, 3)\n"
     ]
    },
    {
     "name": "stderr",
     "output_type": "stream",
     "text": [
      "\n",
      "0: 640x640 1 blok, 1 excelData, 1 tgl, 881.5ms\n",
      "Speed: 3.0ms preprocess, 881.5ms inference, 1.0ms postprocess per image at shape (1, 3, 640, 640)\n"
     ]
    }
   ],
   "source": [
    "img = cv2.imread(\"data-ocr/0EAC26CF-CAA4-4B5B-B521-EA0E42EF650A.JPG\")\n",
    "\n",
    "print(img.shape)\n",
    "\n",
    "scalingH, scalingW = img.shape[0]/imgSize, img.shape[1]/imgSize\n",
    "data = cv2.resize(img, (imgSize, imgSize))\n",
    "\n",
    "results = model.predict(data, imgsz = imgSize,\n",
    "                        conf = configModel[\"model-config\"][\"conf\"], iou = configModel[\"model-config\"][\"iou\"],\n",
    "                        save = configModel[\"model-config\"][\"save-mode\"], save_conf = configModel[\"model-config\"][\"save-mode\"],\n",
    "                        save_crop = configModel[\"model-config\"][\"save-mode\"], save_txt = configModel[\"model-config\"][\"save-mode\"],\n",
    "                        device = configModel[\"model-config\"][\"device-mode\"])"
   ]
  },
  {
   "cell_type": "code",
   "execution_count": 41,
   "metadata": {},
   "outputs": [
    {
     "name": "stdout",
     "output_type": "stream",
     "text": [
      "{0: 'blok', 1: 'excelData', 2: 'tgl'}\n"
     ]
    }
   ],
   "source": [
    "classes = results[0].names\n",
    "print(classes)"
   ]
  },
  {
   "cell_type": "code",
   "execution_count": 42,
   "metadata": {},
   "outputs": [],
   "source": [
    "def hconcat_resize(img_list,img_delimiter, interpolation \n",
    "                   = cv2.INTER_CUBIC):\n",
    "    h_max = 0\n",
    "    w_total = 10\n",
    "      # take minimum width\n",
    "    h_max = max(img.shape[0]\n",
    "                for img in img_list)\n",
    "    \n",
    "    h_max2 = max(h_max, img_delimiter.shape[0])\n",
    "\n",
    "    \n",
    "    for img in img_list:\n",
    "        w_total += img.shape[1] + 5\n",
    "        w_total += img_delimiter.shape[1] + 5\n",
    "    \n",
    "    img_backgroud = np.zeros((h_max2, w_total,3), dtype=np.uint8) ## create base background image with max width and total height of all image in img_list\n",
    "    img_backgroud[:,:] = (255,255,255) ## colour of the background\n",
    "\n",
    "    current_x = 0\n",
    "    for img in img_list:\n",
    "\n",
    "        # add an image to the final array and increment the y coordinate\n",
    "        img_backgroud[:img.shape[0],current_x:img.shape[1]+current_x,:] = img\n",
    "        current_x = current_x + img.shape[1] + 5\n",
    "\n",
    "        # add a delimiter image to each cropped image\n",
    "        img_backgroud[:img_delimiter.shape[0],current_x:img_delimiter.shape[1]+current_x,:] = img_delimiter\n",
    "        current_x = current_x + img_delimiter.shape[1] + 5\n",
    "\n",
    "    return img_backgroud\n",
    "\n",
    "def get_grayscale(image):\n",
    "    return cv2.cvtColor(image, cv2.COLOR_BGR2GRAY)\n",
    "\n",
    "#====================== GOOGLE VISION #======================\n",
    "client = vision.ImageAnnotatorClient.from_service_account_file(gcv_api_key_path) # VISION API KEY PATH\n",
    "\n",
    "def get_text_response_from_path(BytesImage):\n",
    "\n",
    "    output = None\n",
    "    try:\n",
    "        image = types.Image(content=BytesImage)\n",
    "    except ValueError:\n",
    "        output = \"Cannot Read Input File\"\n",
    "        return output\n",
    "\n",
    "    text_response = client.text_detection(image=image, image_context={\"language_hints\": [\"id\"]})\n",
    "    text = text_response.text_annotations\n",
    "\n",
    "    return text\n",
    "#====================== END OF GOOGLE VISION ======================\n",
    "\n",
    "def map_blocks(blocks, block_type):\n",
    "    return {\n",
    "        block['Id']: block\n",
    "        for block in blocks\n",
    "        if block['BlockType'] == block_type\n",
    "    }\n",
    "\n",
    "def get_children_ids(block):\n",
    "    for rels in block.get('Relationships', []):\n",
    "        if rels['Type'] == 'CHILD':\n",
    "            yield from rels['Ids']"
   ]
  },
  {
   "cell_type": "code",
   "execution_count": 43,
   "metadata": {},
   "outputs": [],
   "source": [
    "imgDict = {}\n",
    "finalDict = {}\n",
    "dictDataEntity = {}\n",
    "for boxes in results[0].boxes:\n",
    "    for box in boxes:\n",
    "        labelNo = int(box.cls)\n",
    "        x1 = int(box.xyxy[0][0]*scalingW)\n",
    "        y1 = int(box.xyxy[0][1]*scalingH)\n",
    "        x2 = int(box.xyxy[0][2]*scalingW)\n",
    "        y2 = int(box.xyxy[0][3]*scalingH)\n",
    "\n",
    "        tempCrop = img[y1:y2, x1:x2]\n",
    "\n",
    "        imgDict.update({labelNo:tempCrop})\n",
    "\n",
    "orderedDict = OrderedDict(sorted(imgDict.items()))\n",
    "for key, value in orderedDict.items():\n",
    "    for classKey, classValue in classes.items(): \n",
    "        if key == classKey:\n",
    "             finalDict[classValue] = value"
   ]
  },
  {
   "cell_type": "code",
   "execution_count": 45,
   "metadata": {},
   "outputs": [
    {
     "ename": "ProfileNotFound",
     "evalue": "The config profile (credentials) could not be found",
     "output_type": "error",
     "traceback": [
      "\u001b[1;31m---------------------------------------------------------------------------\u001b[0m",
      "\u001b[1;31mProfileNotFound\u001b[0m                           Traceback (most recent call last)",
      "Cell \u001b[1;32mIn[45], line 8\u001b[0m\n\u001b[0;32m      5\u001b[0m buffered \u001b[39m=\u001b[39m BytesIO()\n\u001b[0;32m      6\u001b[0m tableImage\u001b[39m.\u001b[39msave(buffered, \u001b[39mformat\u001b[39m\u001b[39m=\u001b[39m\u001b[39m'\u001b[39m\u001b[39mPNG\u001b[39m\u001b[39m'\u001b[39m)\n\u001b[1;32m----> 8\u001b[0m client \u001b[39m=\u001b[39m boto3\u001b[39m.\u001b[39;49mclient(\u001b[39m\"\u001b[39;49m\u001b[39mtextract\u001b[39;49m\u001b[39m\"\u001b[39;49m, aws_access_key_id \u001b[39m=\u001b[39;49m configModel[\u001b[39m\"\u001b[39;49m\u001b[39mmodel-config\u001b[39;49m\u001b[39m\"\u001b[39;49m][\u001b[39m\"\u001b[39;49m\u001b[39mAWS_ACCESS_KEY\u001b[39;49m\u001b[39m\"\u001b[39;49m],\n\u001b[0;32m      9\u001b[0m                       aws_secret_access_key\u001b[39m=\u001b[39;49m configModel[\u001b[39m\"\u001b[39;49m\u001b[39mmodel-config\u001b[39;49m\u001b[39m\"\u001b[39;49m][\u001b[39m\"\u001b[39;49m\u001b[39mAWS_SECRET_KEY\u001b[39;49m\u001b[39m\"\u001b[39;49m], region_name \u001b[39m=\u001b[39;49m configModel[\u001b[39m\"\u001b[39;49m\u001b[39mmodel-config\u001b[39;49m\u001b[39m\"\u001b[39;49m][\u001b[39m\"\u001b[39;49m\u001b[39mAWS-REGION\u001b[39;49m\u001b[39m\"\u001b[39;49m])\n\u001b[0;32m     10\u001b[0m response \u001b[39m=\u001b[39m client\u001b[39m.\u001b[39manalyze_document( Document\u001b[39m=\u001b[39m{\u001b[39m'\u001b[39m\u001b[39mBytes\u001b[39m\u001b[39m'\u001b[39m: buffered\u001b[39m.\u001b[39mgetvalue()}, FeatureTypes\u001b[39m=\u001b[39m[\u001b[39m'\u001b[39m\u001b[39mTABLES\u001b[39m\u001b[39m'\u001b[39m])\n\u001b[0;32m     12\u001b[0m blocks \u001b[39m=\u001b[39m response[\u001b[39m'\u001b[39m\u001b[39mBlocks\u001b[39m\u001b[39m'\u001b[39m]\n",
      "File \u001b[1;32mc:\\Users\\afkaa\\Envs\\efisheryProject\\lib\\site-packages\\boto3\\__init__.py:92\u001b[0m, in \u001b[0;36mclient\u001b[1;34m(*args, **kwargs)\u001b[0m\n\u001b[0;32m     86\u001b[0m \u001b[39mdef\u001b[39;00m \u001b[39mclient\u001b[39m(\u001b[39m*\u001b[39margs, \u001b[39m*\u001b[39m\u001b[39m*\u001b[39mkwargs):\n\u001b[0;32m     87\u001b[0m \u001b[39m    \u001b[39m\u001b[39m\"\"\"\u001b[39;00m\n\u001b[0;32m     88\u001b[0m \u001b[39m    Create a low-level service client by name using the default session.\u001b[39;00m\n\u001b[0;32m     89\u001b[0m \n\u001b[0;32m     90\u001b[0m \u001b[39m    See :py:meth:`boto3.session.Session.client`.\u001b[39;00m\n\u001b[0;32m     91\u001b[0m \u001b[39m    \"\"\"\u001b[39;00m\n\u001b[1;32m---> 92\u001b[0m     \u001b[39mreturn\u001b[39;00m _get_default_session()\u001b[39m.\u001b[39mclient(\u001b[39m*\u001b[39margs, \u001b[39m*\u001b[39m\u001b[39m*\u001b[39mkwargs)\n",
      "File \u001b[1;32mc:\\Users\\afkaa\\Envs\\efisheryProject\\lib\\site-packages\\boto3\\__init__.py:80\u001b[0m, in \u001b[0;36m_get_default_session\u001b[1;34m()\u001b[0m\n\u001b[0;32m     73\u001b[0m \u001b[39m\u001b[39m\u001b[39m\"\"\"\u001b[39;00m\n\u001b[0;32m     74\u001b[0m \u001b[39mGet the default session, creating one if needed.\u001b[39;00m\n\u001b[0;32m     75\u001b[0m \n\u001b[0;32m     76\u001b[0m \u001b[39m:rtype: :py:class:`~boto3.session.Session`\u001b[39;00m\n\u001b[0;32m     77\u001b[0m \u001b[39m:return: The default session\u001b[39;00m\n\u001b[0;32m     78\u001b[0m \u001b[39m\"\"\"\u001b[39;00m\n\u001b[0;32m     79\u001b[0m \u001b[39mif\u001b[39;00m DEFAULT_SESSION \u001b[39mis\u001b[39;00m \u001b[39mNone\u001b[39;00m:\n\u001b[1;32m---> 80\u001b[0m     setup_default_session()\n\u001b[0;32m     81\u001b[0m _warn_deprecated_python()\n\u001b[0;32m     83\u001b[0m \u001b[39mreturn\u001b[39;00m DEFAULT_SESSION\n",
      "File \u001b[1;32mc:\\Users\\afkaa\\Envs\\efisheryProject\\lib\\site-packages\\boto3\\__init__.py:34\u001b[0m, in \u001b[0;36msetup_default_session\u001b[1;34m(**kwargs)\u001b[0m\n\u001b[0;32m     28\u001b[0m \u001b[39m\u001b[39m\u001b[39m\"\"\"\u001b[39;00m\n\u001b[0;32m     29\u001b[0m \u001b[39mSet up a default session, passing through any parameters to the session\u001b[39;00m\n\u001b[0;32m     30\u001b[0m \u001b[39mconstructor. There is no need to call this unless you wish to pass custom\u001b[39;00m\n\u001b[0;32m     31\u001b[0m \u001b[39mparameters, because a default session will be created for you.\u001b[39;00m\n\u001b[0;32m     32\u001b[0m \u001b[39m\"\"\"\u001b[39;00m\n\u001b[0;32m     33\u001b[0m \u001b[39mglobal\u001b[39;00m DEFAULT_SESSION\n\u001b[1;32m---> 34\u001b[0m DEFAULT_SESSION \u001b[39m=\u001b[39m Session(\u001b[39m*\u001b[39m\u001b[39m*\u001b[39mkwargs)\n",
      "File \u001b[1;32mc:\\Users\\afkaa\\Envs\\efisheryProject\\lib\\site-packages\\boto3\\session.py:90\u001b[0m, in \u001b[0;36mSession.__init__\u001b[1;34m(self, aws_access_key_id, aws_secret_access_key, aws_session_token, region_name, botocore_session, profile_name)\u001b[0m\n\u001b[0;32m     85\u001b[0m     \u001b[39mself\u001b[39m\u001b[39m.\u001b[39m_session\u001b[39m.\u001b[39mset_config_variable(\u001b[39m'\u001b[39m\u001b[39mregion\u001b[39m\u001b[39m'\u001b[39m, region_name)\n\u001b[0;32m     87\u001b[0m \u001b[39mself\u001b[39m\u001b[39m.\u001b[39mresource_factory \u001b[39m=\u001b[39m ResourceFactory(\n\u001b[0;32m     88\u001b[0m     \u001b[39mself\u001b[39m\u001b[39m.\u001b[39m_session\u001b[39m.\u001b[39mget_component(\u001b[39m'\u001b[39m\u001b[39mevent_emitter\u001b[39m\u001b[39m'\u001b[39m)\n\u001b[0;32m     89\u001b[0m )\n\u001b[1;32m---> 90\u001b[0m \u001b[39mself\u001b[39;49m\u001b[39m.\u001b[39;49m_setup_loader()\n\u001b[0;32m     91\u001b[0m \u001b[39mself\u001b[39m\u001b[39m.\u001b[39m_register_default_handlers()\n",
      "File \u001b[1;32mc:\\Users\\afkaa\\Envs\\efisheryProject\\lib\\site-packages\\boto3\\session.py:131\u001b[0m, in \u001b[0;36mSession._setup_loader\u001b[1;34m(self)\u001b[0m\n\u001b[0;32m    127\u001b[0m \u001b[39mdef\u001b[39;00m \u001b[39m_setup_loader\u001b[39m(\u001b[39mself\u001b[39m):\n\u001b[0;32m    128\u001b[0m \u001b[39m    \u001b[39m\u001b[39m\"\"\"\u001b[39;00m\n\u001b[0;32m    129\u001b[0m \u001b[39m    Setup loader paths so that we can load resources.\u001b[39;00m\n\u001b[0;32m    130\u001b[0m \u001b[39m    \"\"\"\u001b[39;00m\n\u001b[1;32m--> 131\u001b[0m     \u001b[39mself\u001b[39m\u001b[39m.\u001b[39m_loader \u001b[39m=\u001b[39m \u001b[39mself\u001b[39;49m\u001b[39m.\u001b[39;49m_session\u001b[39m.\u001b[39;49mget_component(\u001b[39m'\u001b[39;49m\u001b[39mdata_loader\u001b[39;49m\u001b[39m'\u001b[39;49m)\n\u001b[0;32m    132\u001b[0m     \u001b[39mself\u001b[39m\u001b[39m.\u001b[39m_loader\u001b[39m.\u001b[39msearch_paths\u001b[39m.\u001b[39mappend(\n\u001b[0;32m    133\u001b[0m         os\u001b[39m.\u001b[39mpath\u001b[39m.\u001b[39mjoin(os\u001b[39m.\u001b[39mpath\u001b[39m.\u001b[39mdirname(\u001b[39m__file__\u001b[39m), \u001b[39m'\u001b[39m\u001b[39mdata\u001b[39m\u001b[39m'\u001b[39m)\n\u001b[0;32m    134\u001b[0m     )\n",
      "File \u001b[1;32mc:\\Users\\afkaa\\Envs\\efisheryProject\\lib\\site-packages\\botocore\\session.py:796\u001b[0m, in \u001b[0;36mSession.get_component\u001b[1;34m(self, name)\u001b[0m\n\u001b[0;32m    794\u001b[0m \u001b[39mdef\u001b[39;00m \u001b[39mget_component\u001b[39m(\u001b[39mself\u001b[39m, name):\n\u001b[0;32m    795\u001b[0m     \u001b[39mtry\u001b[39;00m:\n\u001b[1;32m--> 796\u001b[0m         \u001b[39mreturn\u001b[39;00m \u001b[39mself\u001b[39;49m\u001b[39m.\u001b[39;49m_components\u001b[39m.\u001b[39;49mget_component(name)\n\u001b[0;32m    797\u001b[0m     \u001b[39mexcept\u001b[39;00m \u001b[39mValueError\u001b[39;00m:\n\u001b[0;32m    798\u001b[0m         \u001b[39mif\u001b[39;00m name \u001b[39min\u001b[39;00m [\u001b[39m'\u001b[39m\u001b[39mendpoint_resolver\u001b[39m\u001b[39m'\u001b[39m, \u001b[39m'\u001b[39m\u001b[39mexceptions_factory\u001b[39m\u001b[39m'\u001b[39m]:\n",
      "File \u001b[1;32mc:\\Users\\afkaa\\Envs\\efisheryProject\\lib\\site-packages\\botocore\\session.py:1108\u001b[0m, in \u001b[0;36mComponentLocator.get_component\u001b[1;34m(self, name)\u001b[0m\n\u001b[0;32m   1106\u001b[0m \u001b[39mif\u001b[39;00m name \u001b[39min\u001b[39;00m \u001b[39mself\u001b[39m\u001b[39m.\u001b[39m_deferred:\n\u001b[0;32m   1107\u001b[0m     factory \u001b[39m=\u001b[39m \u001b[39mself\u001b[39m\u001b[39m.\u001b[39m_deferred[name]\n\u001b[1;32m-> 1108\u001b[0m     \u001b[39mself\u001b[39m\u001b[39m.\u001b[39m_components[name] \u001b[39m=\u001b[39m factory()\n\u001b[0;32m   1109\u001b[0m     \u001b[39m# Only delete the component from the deferred dict after\u001b[39;00m\n\u001b[0;32m   1110\u001b[0m     \u001b[39m# successfully creating the object from the factory as well as\u001b[39;00m\n\u001b[0;32m   1111\u001b[0m     \u001b[39m# injecting the instantiated value into the _components dict.\u001b[39;00m\n\u001b[0;32m   1112\u001b[0m     \u001b[39mdel\u001b[39;00m \u001b[39mself\u001b[39m\u001b[39m.\u001b[39m_deferred[name]\n",
      "File \u001b[1;32mc:\\Users\\afkaa\\Envs\\efisheryProject\\lib\\site-packages\\botocore\\session.py:193\u001b[0m, in \u001b[0;36mSession._register_data_loader.<locals>.<lambda>\u001b[1;34m()\u001b[0m\n\u001b[0;32m    190\u001b[0m \u001b[39mdef\u001b[39;00m \u001b[39m_register_data_loader\u001b[39m(\u001b[39mself\u001b[39m):\n\u001b[0;32m    191\u001b[0m     \u001b[39mself\u001b[39m\u001b[39m.\u001b[39m_components\u001b[39m.\u001b[39mlazy_register_component(\n\u001b[0;32m    192\u001b[0m         \u001b[39m'\u001b[39m\u001b[39mdata_loader\u001b[39m\u001b[39m'\u001b[39m,\n\u001b[1;32m--> 193\u001b[0m         \u001b[39mlambda\u001b[39;00m: create_loader(\u001b[39mself\u001b[39;49m\u001b[39m.\u001b[39;49mget_config_variable(\u001b[39m'\u001b[39;49m\u001b[39mdata_path\u001b[39;49m\u001b[39m'\u001b[39;49m)),\n\u001b[0;32m    194\u001b[0m     )\n",
      "File \u001b[1;32mc:\\Users\\afkaa\\Envs\\efisheryProject\\lib\\site-packages\\botocore\\session.py:317\u001b[0m, in \u001b[0;36mSession.get_config_variable\u001b[1;34m(self, logical_name, methods)\u001b[0m\n\u001b[0;32m    313\u001b[0m \u001b[39mif\u001b[39;00m methods \u001b[39mis\u001b[39;00m \u001b[39mnot\u001b[39;00m \u001b[39mNone\u001b[39;00m:\n\u001b[0;32m    314\u001b[0m     \u001b[39mreturn\u001b[39;00m \u001b[39mself\u001b[39m\u001b[39m.\u001b[39m_get_config_variable_with_custom_methods(\n\u001b[0;32m    315\u001b[0m         logical_name, methods\n\u001b[0;32m    316\u001b[0m     )\n\u001b[1;32m--> 317\u001b[0m \u001b[39mreturn\u001b[39;00m \u001b[39mself\u001b[39;49m\u001b[39m.\u001b[39;49mget_component(\u001b[39m'\u001b[39;49m\u001b[39mconfig_store\u001b[39;49m\u001b[39m'\u001b[39;49m)\u001b[39m.\u001b[39;49mget_config_variable(\n\u001b[0;32m    318\u001b[0m     logical_name\n\u001b[0;32m    319\u001b[0m )\n",
      "File \u001b[1;32mc:\\Users\\afkaa\\Envs\\efisheryProject\\lib\\site-packages\\botocore\\configprovider.py:426\u001b[0m, in \u001b[0;36mConfigValueStore.get_config_variable\u001b[1;34m(self, logical_name)\u001b[0m\n\u001b[0;32m    424\u001b[0m     \u001b[39mreturn\u001b[39;00m \u001b[39mNone\u001b[39;00m\n\u001b[0;32m    425\u001b[0m provider \u001b[39m=\u001b[39m \u001b[39mself\u001b[39m\u001b[39m.\u001b[39m_mapping[logical_name]\n\u001b[1;32m--> 426\u001b[0m \u001b[39mreturn\u001b[39;00m provider\u001b[39m.\u001b[39;49mprovide()\n",
      "File \u001b[1;32mc:\\Users\\afkaa\\Envs\\efisheryProject\\lib\\site-packages\\botocore\\configprovider.py:628\u001b[0m, in \u001b[0;36mChainProvider.provide\u001b[1;34m(self)\u001b[0m\n\u001b[0;32m    621\u001b[0m \u001b[39m\u001b[39m\u001b[39m\"\"\"Provide the value from the first provider to return non-None.\u001b[39;00m\n\u001b[0;32m    622\u001b[0m \n\u001b[0;32m    623\u001b[0m \u001b[39mEach provider in the chain has its provide method called. The first\u001b[39;00m\n\u001b[0;32m    624\u001b[0m \u001b[39mone in the chain to return a non-None value is the returned from the\u001b[39;00m\n\u001b[0;32m    625\u001b[0m \u001b[39mChainProvider. When no non-None value is found, None is returned.\u001b[39;00m\n\u001b[0;32m    626\u001b[0m \u001b[39m\"\"\"\u001b[39;00m\n\u001b[0;32m    627\u001b[0m \u001b[39mfor\u001b[39;00m provider \u001b[39min\u001b[39;00m \u001b[39mself\u001b[39m\u001b[39m.\u001b[39m_providers:\n\u001b[1;32m--> 628\u001b[0m     value \u001b[39m=\u001b[39m provider\u001b[39m.\u001b[39;49mprovide()\n\u001b[0;32m    629\u001b[0m     \u001b[39mif\u001b[39;00m value \u001b[39mis\u001b[39;00m \u001b[39mnot\u001b[39;00m \u001b[39mNone\u001b[39;00m:\n\u001b[0;32m    630\u001b[0m         \u001b[39mreturn\u001b[39;00m \u001b[39mself\u001b[39m\u001b[39m.\u001b[39m_convert_type(value)\n",
      "File \u001b[1;32mc:\\Users\\afkaa\\Envs\\efisheryProject\\lib\\site-packages\\botocore\\configprovider.py:718\u001b[0m, in \u001b[0;36mScopedConfigProvider.provide\u001b[1;34m(self)\u001b[0m\n\u001b[0;32m    716\u001b[0m \u001b[39mdef\u001b[39;00m \u001b[39mprovide\u001b[39m(\u001b[39mself\u001b[39m):\n\u001b[0;32m    717\u001b[0m \u001b[39m    \u001b[39m\u001b[39m\"\"\"Provide a value from a config file property.\"\"\"\u001b[39;00m\n\u001b[1;32m--> 718\u001b[0m     scoped_config \u001b[39m=\u001b[39m \u001b[39mself\u001b[39;49m\u001b[39m.\u001b[39;49m_session\u001b[39m.\u001b[39;49mget_scoped_config()\n\u001b[0;32m    719\u001b[0m     \u001b[39mif\u001b[39;00m \u001b[39misinstance\u001b[39m(\u001b[39mself\u001b[39m\u001b[39m.\u001b[39m_config_var_name, \u001b[39mtuple\u001b[39m):\n\u001b[0;32m    720\u001b[0m         section_config \u001b[39m=\u001b[39m scoped_config\u001b[39m.\u001b[39mget(\u001b[39mself\u001b[39m\u001b[39m.\u001b[39m_config_var_name[\u001b[39m0\u001b[39m])\n",
      "File \u001b[1;32mc:\\Users\\afkaa\\Envs\\efisheryProject\\lib\\site-packages\\botocore\\session.py:416\u001b[0m, in \u001b[0;36mSession.get_scoped_config\u001b[1;34m(self)\u001b[0m\n\u001b[0;32m    411\u001b[0m     \u001b[39mreturn\u001b[39;00m profile_map\u001b[39m.\u001b[39mget(\u001b[39m'\u001b[39m\u001b[39mdefault\u001b[39m\u001b[39m'\u001b[39m, {})\n\u001b[0;32m    412\u001b[0m \u001b[39melif\u001b[39;00m profile_name \u001b[39mnot\u001b[39;00m \u001b[39min\u001b[39;00m profile_map:\n\u001b[0;32m    413\u001b[0m     \u001b[39m# Otherwise if they specified a profile, it has to\u001b[39;00m\n\u001b[0;32m    414\u001b[0m     \u001b[39m# exist (even if it's the default profile) otherwise\u001b[39;00m\n\u001b[0;32m    415\u001b[0m     \u001b[39m# we complain.\u001b[39;00m\n\u001b[1;32m--> 416\u001b[0m     \u001b[39mraise\u001b[39;00m ProfileNotFound(profile\u001b[39m=\u001b[39mprofile_name)\n\u001b[0;32m    417\u001b[0m \u001b[39melse\u001b[39;00m:\n\u001b[0;32m    418\u001b[0m     \u001b[39mreturn\u001b[39;00m profile_map[profile_name]\n",
      "\u001b[1;31mProfileNotFound\u001b[0m: The config profile (credentials) could not be found"
     ]
    },
    {
     "ename": "",
     "evalue": "",
     "output_type": "error",
     "traceback": [
      "\u001b[1;31mThe Kernel crashed while executing code in the the current cell or a previous cell. Please review the code in the cell(s) to identify a possible cause of the failure. Click <a href='https://aka.ms/vscodeJupyterKernelCrash'>here</a> for more info. View Jupyter <a href='command:jupyter.viewOutput'>log</a> for further details."
     ]
    }
   ],
   "source": [
    "dfs = []\n",
    "for key in finalDict.keys():\n",
    "    if key == \"excelData\":\n",
    "        tableImage = finalDict[\"excelData\"]\n",
    "        tableImage = Image.fromarray(tableImage)\n",
    "        buffered = BytesIO()\n",
    "        tableImage.save(buffered, format='PNG')\n",
    "\n",
    "        client = boto3.client(\"textract\", aws_access_key_id = configModel[\"model-config\"][\"AWS_ACCESS_KEY\"],\n",
    "                              aws_secret_access_key= configModel[\"model-config\"][\"AWS_SECRET_KEY\"], region_name = configModel[\"model-config\"][\"AWS-REGION\"])\n",
    "        response = client.analyze_document( Document={'Bytes': buffered.getvalue()}, FeatureTypes=['TABLES'])\n",
    "\n",
    "        blocks = response['Blocks']\n",
    "        tables = map_blocks(blocks, 'TABLE')\n",
    "        cells = map_blocks(blocks, 'CELL')\n",
    "        words = map_blocks(blocks, 'WORD')\n",
    "        selections = map_blocks(blocks, 'SELECTION_ELEMENT')\n",
    "\n",
    "        for table in tables.values():\n",
    "            # Determine all the cells that belong to this table\n",
    "            table_cells = [cells[cell_id] for cell_id in get_children_ids(table)]\n",
    "\n",
    "            # Determine the table's number of rows and columns\n",
    "            n_rows = max(cell['RowIndex'] for cell in table_cells)\n",
    "            n_cols = max(cell['ColumnIndex'] for cell in table_cells)\n",
    "            content = [[None for _ in range(n_cols)] for _ in range(n_rows)]\n",
    "\n",
    "            # Fill in each cell\n",
    "            for cell in table_cells:\n",
    "                cell_contents = [\n",
    "                    words[child_id]['Text']\n",
    "                    if child_id in words\n",
    "                    else selections[child_id]['SelectionStatus']\n",
    "                    for child_id in get_children_ids(cell)\n",
    "                ]\n",
    "                i = cell['RowIndex'] - 1\n",
    "                j = cell['ColumnIndex'] - 1\n",
    "                content[i][j] = ' '.join(cell_contents)\n",
    "\n",
    "            # We assume that the first row corresponds to the column names\n",
    "            df = pd.DataFrame(content[1:], columns=content[0])\n",
    "            dfs.append(df)\n",
    "\n",
    "finalDict.pop(\"ex\")\n",
    "        "
   ]
  },
  {
   "cell_type": "code",
   "execution_count": null,
   "metadata": {},
   "outputs": [],
   "source": [
    "img_v_resize = hconcat_resize(finalDict.values(),imgDelimiter) #\n",
    "gray_imgResize = get_grayscale(img_v_resize) # call the grayscaling function\n",
    "success, encoded_image = cv2.imencode('.jpg', gray_imgResize) # save the image in memory\n",
    "BytesImage = encoded_image.tobytes()\n",
    "a = cv2.resize(img_v_resize, (960, 540))"
   ]
  },
  {
   "cell_type": "code",
   "execution_count": 9,
   "metadata": {},
   "outputs": [],
   "source": [
    "text_response = get_text_response_from_path(BytesImage)"
   ]
  },
  {
   "cell_type": "code",
   "execution_count": 10,
   "metadata": {},
   "outputs": [],
   "source": [
    "#========== POST PROCESSING ================#\n",
    "dataEntity = text_response[0].description.strip() # show only the description info from gvision\n",
    "\n",
    "a = [i.split(\"\\n\") for i in dataEntity.split('PEMISAH') if i]\n",
    "\n",
    "\n",
    "value = []\n",
    "value.clear()\n",
    "for i in a:\n",
    "    c = [d for d in i if d]\n",
    "    listToStr = ' '.join([str(elem) for elem in c])\n",
    "    stripListToStr = listToStr.strip()\n",
    "    value.append(stripListToStr)\n",
    "\n",
    "i = 0\n",
    "\n",
    "for entity in classes.values():\n",
    "    dictDataEntity[entity] = value[i]\n",
    "    i+=1\n",
    "    if len(value) == i:\n",
    "        break\n",
    "\n",
    "for label in classes.values():\n",
    "        if label not in dictDataEntity.keys() and label != \"excelData\":\n",
    "            dictDataEntity[label] = \"-\""
   ]
  }
 ],
 "metadata": {
  "kernelspec": {
   "display_name": "ocrEfishery",
   "language": "python",
   "name": "python3"
  },
  "language_info": {
   "codemirror_mode": {
    "name": "ipython",
    "version": 3
   },
   "file_extension": ".py",
   "mimetype": "text/x-python",
   "name": "python",
   "nbconvert_exporter": "python",
   "pygments_lexer": "ipython3",
   "version": "3.9.13"
  },
  "orig_nbformat": 4
 },
 "nbformat": 4,
 "nbformat_minor": 2
}
